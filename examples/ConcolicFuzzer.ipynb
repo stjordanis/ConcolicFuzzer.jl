{
 "cells": [
  {
   "cell_type": "code",
   "execution_count": null,
   "metadata": {
    "slideshow": {
     "slide_type": "skip"
    }
   },
   "outputs": [],
   "source": [
    "gist = \"https://gist.github.com/a8037ba6f9df4d921f8c271682c2d4e0.git\"\n",
    "sha1 = \"7fff59d1ab70e676c65ff5362559e6ee42c40f00\"\n",
    "\n",
    "import LibGit2\n",
    "using Pkg\n",
    "env = joinpath(@__DIR__, \".env\", \"ConcolicFuzzerTalk\")\n",
    "isdir(env) || LibGit2.clone(gist, env)\n",
    "repo = LibGit2.GitRepo(env)\n",
    "LibGit2.fetch(repo)\n",
    "LibGit2.checkout!(repo, sha1, force = true)\n",
    "Pkg.activate(env)\n",
    "Pkg.instantiate()"
   ]
  },
  {
   "cell_type": "code",
   "execution_count": null,
   "metadata": {
    "scrolled": true,
    "slideshow": {
     "slide_type": "slide"
    }
   },
   "outputs": [],
   "source": [
    "using ConcolicFuzzer"
   ]
  },
  {
   "cell_type": "markdown",
   "metadata": {
    "slideshow": {
     "slide_type": "fragment"
    }
   },
   "source": [
    "- Concolic Execution based on Cassette\n",
    "- Uses Z3 as an SMT solver\n",
    "- Proof properties of integers\n",
    "- Fuzzing!!!"
   ]
  },
  {
   "cell_type": "markdown",
   "metadata": {
    "slideshow": {
     "slide_type": "slide"
    }
   },
   "source": [
    "## General Idea"
   ]
  },
  {
   "cell_type": "code",
   "execution_count": null,
   "metadata": {
    "slideshow": {
     "slide_type": "fragment"
    }
   },
   "outputs": [],
   "source": [
    "function vault(passwd)\n",
    "    if passwd == 1337\n",
    "        return \"Secret!\"\n",
    "    else\n",
    "        return \"Access denied\"\n",
    "    end\n",
    "end"
   ]
  },
  {
   "cell_type": "markdown",
   "metadata": {
    "slideshow": {
     "slide_type": "subslide"
    }
   },
   "source": [
    "## Attacking through fuzzing\n",
    "- Linear search\n",
    "- Random inputs\n",
    "- Concolic execution"
   ]
  },
  {
   "cell_type": "code",
   "execution_count": null,
   "metadata": {
    "slideshow": {
     "slide_type": "subslide"
    }
   },
   "outputs": [],
   "source": [
    "result, symbolic, trace, record = execute(vault, 1)\n",
    "result, symbolic"
   ]
  },
  {
   "cell_type": "markdown",
   "metadata": {
    "slideshow": {
     "slide_type": "fragment"
    }
   },
   "source": [
    "Simplified trace:\n",
    "```\n",
    "vault(arg_1)\n",
    "  Cond ⇐ ==(arg_1, 1337)\n",
    "    Cond ⇐ ===(arg_1, 1337)\n",
    "  false ⇐ assert(Cond)\n",
    "```"
   ]
  },
  {
   "cell_type": "code",
   "execution_count": null,
   "metadata": {
    "slideshow": {
     "slide_type": "fragment"
    }
   },
   "outputs": [],
   "source": [
    "stream = ConcolicFuzzer.filter(trace)"
   ]
  },
  {
   "cell_type": "markdown",
   "metadata": {
    "slideshow": {
     "slide_type": "subslide"
    }
   },
   "source": [
    "### Turning it into a SMT program"
   ]
  },
  {
   "cell_type": "code",
   "execution_count": null,
   "metadata": {
    "slideshow": {
     "slide_type": "skip"
    }
   },
   "outputs": [],
   "source": [
    "z3model = ConcolicFuzzer.symbolic(stream);"
   ]
  },
  {
   "cell_type": "markdown",
   "metadata": {
    "slideshow": {
     "slide_type": "fragment"
    }
   },
   "source": [
    "```smt\n",
    "(declare-const arg (_ BitVec 64))\n",
    "(declare-const cond Bool)\n",
    "(assert (= cond (= arg (_ bv1337 64))))\n",
    "(assert (= cond false))\n",
    "```\n",
    "\n",
    "This is what `z3model = ConcolicFuzzer.symbolic(stream)` produces."
   ]
  },
  {
   "cell_type": "code",
   "execution_count": null,
   "metadata": {
    "slideshow": {
     "slide_type": "subslide"
    }
   },
   "outputs": [],
   "source": [
    "sat, model = ConcolicFuzzer.runZ3(copy(z3model))\n",
    "if sat\n",
    "    inputs = ConcolicFuzzer.parseZ3(model)\n",
    "    print(\"model is satisfiable with inputs \", inputs[1])\n",
    "end"
   ]
  },
  {
   "cell_type": "markdown",
   "metadata": {
    "slideshow": {
     "slide_type": "subslide"
    }
   },
   "source": [
    "### Open sesame\n",
    "1. Flip the condition\n",
    "2. Run Z3\n",
    "3. Profit"
   ]
  },
  {
   "cell_type": "code",
   "execution_count": null,
   "metadata": {
    "slideshow": {
     "slide_type": "subslide"
    }
   },
   "outputs": [],
   "source": [
    "val = stream[2]\n",
    "stream[2] = (val[1], Some(true), val[3])\n",
    "stream"
   ]
  },
  {
   "cell_type": "code",
   "execution_count": null,
   "metadata": {
    "slideshow": {
     "slide_type": "skip"
    }
   },
   "outputs": [],
   "source": [
    "z3model = ConcolicFuzzer.symbolic(stream);"
   ]
  },
  {
   "cell_type": "code",
   "execution_count": null,
   "metadata": {
    "slideshow": {
     "slide_type": "fragment"
    }
   },
   "outputs": [],
   "source": [
    "sat, model = ConcolicFuzzer.runZ3(copy(z3model))\n",
    "if sat\n",
    "    inputs = ConcolicFuzzer.parseZ3(model)\n",
    "    print(\"model is satisfiable with inputs \", inputs[1])\n",
    "end"
   ]
  },
  {
   "cell_type": "markdown",
   "metadata": {
    "slideshow": {
     "slide_type": "slide"
    }
   },
   "source": [
    "## Proofs\n",
    "\n",
    "We can also explicitly prove invariants of our program"
   ]
  },
  {
   "cell_type": "code",
   "execution_count": null,
   "metadata": {
    "slideshow": {
     "slide_type": "fragment"
    }
   },
   "outputs": [],
   "source": [
    "import ConcolicFuzzer: assert, prove"
   ]
  },
  {
   "cell_type": "code",
   "execution_count": null,
   "metadata": {
    "slideshow": {
     "slide_type": "fragment"
    }
   },
   "outputs": [],
   "source": [
    "function proof_me(x)\n",
    "    assert(x<10)\n",
    "    y = x - 10\n",
    "    prove(y < 0)\n",
    "    return y\n",
    "end"
   ]
  },
  {
   "cell_type": "code",
   "execution_count": null,
   "metadata": {
    "slideshow": {
     "slide_type": "subslide"
    }
   },
   "outputs": [],
   "source": [
    "sat, (inputs, hidden_inputs, assignments) = check(proof_me, 1)\n",
    "sat, inputs"
   ]
  },
  {
   "cell_type": "code",
   "execution_count": null,
   "metadata": {
    "slideshow": {
     "slide_type": "fragment"
    }
   },
   "outputs": [],
   "source": [
    "proof_me(-9223372036854775808)"
   ]
  },
  {
   "cell_type": "markdown",
   "metadata": {
    "slideshow": {
     "slide_type": "slide"
    }
   },
   "source": [
    "## Fuzzing\n",
    "The process of exploring a program.\n",
    "\n",
    "Goal:\n",
    "- Obtain a set of inputs that will explore all branches of a function"
   ]
  },
  {
   "cell_type": "code",
   "execution_count": null,
   "metadata": {
    "slideshow": {
     "slide_type": "subslide"
    }
   },
   "outputs": [],
   "source": [
    "function pure_madness(x::T) where T\n",
    "    if x < typemax(T)\n",
    "        return 42\n",
    "    end\n",
    "    return 9001\n",
    "end"
   ]
  },
  {
   "cell_type": "code",
   "execution_count": null,
   "metadata": {
    "slideshow": {
     "slide_type": "fragment"
    }
   },
   "outputs": [],
   "source": [
    "pure_madness(rand(Int))"
   ]
  },
  {
   "cell_type": "code",
   "execution_count": null,
   "metadata": {
    "slideshow": {
     "slide_type": "subslide"
    }
   },
   "outputs": [],
   "source": [
    "tested, errored = fuzz(pure_madness, Int64);\n",
    "map(c-> c[2] => c[1], tested)"
   ]
  },
  {
   "cell_type": "code",
   "execution_count": null,
   "metadata": {
    "slideshow": {
     "slide_type": "fragment"
    }
   },
   "outputs": [],
   "source": [
    "typemax(Int64)"
   ]
  },
  {
   "cell_type": "code",
   "execution_count": null,
   "metadata": {
    "slideshow": {
     "slide_type": "subslide"
    }
   },
   "outputs": [],
   "source": [
    "tested, errored = fuzz(pure_madness, Union{Int64, UInt64});\n",
    "map(c-> c[2] => c[1], tested)"
   ]
  },
  {
   "cell_type": "code",
   "execution_count": null,
   "metadata": {
    "slideshow": {
     "slide_type": "subslide"
    }
   },
   "outputs": [],
   "source": [
    "tested, errored = fuzz(pure_madness, Integer);"
   ]
  },
  {
   "cell_type": "code",
   "execution_count": null,
   "metadata": {
    "slideshow": {
     "slide_type": "subslide"
    }
   },
   "outputs": [],
   "source": [
    "# We are missing one of the Bool cases\n",
    "map(c-> c[2] => c[1], tested)"
   ]
  },
  {
   "cell_type": "markdown",
   "metadata": {
    "slideshow": {
     "slide_type": "subslide"
    }
   },
   "source": [
    "## More complicated features\n",
    "- `rand`\n",
    "- `loops`"
   ]
  },
  {
   "cell_type": "code",
   "execution_count": null,
   "metadata": {
    "slideshow": {
     "slide_type": "subslide"
    }
   },
   "outputs": [],
   "source": [
    "function r3()\n",
    "    x = rand(Int)\n",
    "    y = rand(Int)\n",
    "\n",
    "    if x + y < 10\n",
    "        return 42\n",
    "    end\n",
    "    return 12\n",
    "end"
   ]
  },
  {
   "cell_type": "code",
   "execution_count": null,
   "metadata": {
    "slideshow": {
     "slide_type": "subslide"
    }
   },
   "outputs": [],
   "source": [
    "tested, errored = fuzz(r3);"
   ]
  },
  {
   "cell_type": "code",
   "execution_count": null,
   "metadata": {
    "slideshow": {
     "slide_type": "fragment"
    }
   },
   "outputs": [],
   "source": [
    "map(c-> c[2] => c[1], tested)"
   ]
  },
  {
   "cell_type": "code",
   "execution_count": null,
   "metadata": {
    "slideshow": {
     "slide_type": "subslide"
    }
   },
   "outputs": [],
   "source": [
    "function out_of_bounds(N)\n",
    "    i = 1\n",
    "    while i <= N\n",
    "        @assert i <= 10\n",
    "        i +=  1\n",
    "    end\n",
    "    return i\n",
    "end"
   ]
  },
  {
   "cell_type": "code",
   "execution_count": null,
   "metadata": {
    "slideshow": {
     "slide_type": "subslide"
    }
   },
   "outputs": [],
   "source": [
    "tested, errored = fuzz_wargs(out_of_bounds, 0);"
   ]
  },
  {
   "cell_type": "code",
   "execution_count": null,
   "metadata": {
    "slideshow": {
     "slide_type": "subslide"
    }
   },
   "outputs": [],
   "source": [
    "map(c-> c[2] => c[1], tested)"
   ]
  },
  {
   "cell_type": "markdown",
   "metadata": {
    "slideshow": {
     "slide_type": "subslide"
    }
   },
   "source": [
    "### Supports structs \n",
    "```julia\n",
    "struct A\n",
    "    x::Int\n",
    "end\n",
    "function propagate(x)\n",
    "    a = A(x)\n",
    "    return a.x\n",
    "end\n",
    "```"
   ]
  },
  {
   "cell_type": "markdown",
   "metadata": {
    "slideshow": {
     "slide_type": "subslide"
    }
   },
   "source": [
    "### Supports Arrays\n",
    "```julia\n",
    "function store_and_read(x, i, j)\n",
    "    A = Array{Int}(undef, 10)\n",
    "    A[i] = x\n",
    "    x = 0 # Destroy symbol character of x\n",
    "    return A[j]\n",
    "end\n",
    "```"
   ]
  },
  {
   "cell_type": "markdown",
   "metadata": {
    "slideshow": {
     "slide_type": "slide"
    }
   },
   "source": [
    "# Fuzz and check"
   ]
  },
  {
   "cell_type": "code",
   "execution_count": null,
   "metadata": {
    "slideshow": {
     "slide_type": "fragment"
    }
   },
   "outputs": [],
   "source": [
    "function fc(y)\n",
    "    @assert(0 < y)\n",
    "    if y < 10\n",
    "        x = y - 5\n",
    "    else\n",
    "        x = y - 7\n",
    "    end\n",
    "    ConcolicFuzzer.prove(x < y)\n",
    "end\n",
    "result = ConcolicFuzzer.fuzz_and_check(fc, Int)"
   ]
  },
  {
   "cell_type": "markdown",
   "metadata": {
    "slideshow": {
     "slide_type": "slide"
    }
   },
   "source": [
    "## Work left to do!\n",
    "- BigInt support to properly model the Integer domain\n",
    "- Anything but `<:Integers`\n",
    "  - String\n",
    "  - arbitrary primitive types\n",
    "  - Floating Point\n",
    "- Handling general `ccall`'s as point of introducing *taint*\n"
   ]
  },
  {
   "cell_type": "markdown",
   "metadata": {
    "slideshow": {
     "slide_type": "slide"
    }
   },
   "source": [
    "## How does it work?\n",
    "\n",
    "- Taint inputs with Cassette tags\n",
    "- Trace computations involving tainted values\n",
    "- Record branches by inserting `assert`\n",
    "- Perform DFS, by cutting and negating branches\n",
    "- Build a SMT-2 program\n",
    "- Solve the constraints to get inputs to explore new branch.\n",
    "- Iterate"
   ]
  }
 ],
 "metadata": {
  "@webio": {
   "lastCommId": "4898e85c2f954e2d8ec6042f6e29751b",
   "lastKernelId": "4dcb0f23-f7a7-4fff-ad6e-a272c3f01502"
  },
  "celltoolbar": "Slideshow",
  "kernelspec": {
   "display_name": " 1.3.0-DEV",
   "language": "julia",
   "name": "-1.3"
  },
  "language_info": {
   "file_extension": ".jl",
   "mimetype": "application/julia",
   "name": "julia",
   "version": "1.3.0"
  }
 },
 "nbformat": 4,
 "nbformat_minor": 2
}
